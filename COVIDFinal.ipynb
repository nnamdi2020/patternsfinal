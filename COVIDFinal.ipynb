{
  "nbformat": 4,
  "nbformat_minor": 0,
  "metadata": {
    "colab": {
      "name": "COVIDFinal.ipynb",
      "provenance": [],
      "collapsed_sections": []
    },
    "kernelspec": {
      "name": "python3",
      "display_name": "Python 3"
    }
  },
  "cells": [
    {
      "cell_type": "code",
      "metadata": {
        "colab": {
          "base_uri": "https://localhost:8080/",
          "height": 195
        },
        "id": "3kaZmpWJFHC2",
        "outputId": "a4b339fa-6bfa-4c67-bff9-6f9d7c0f5f34"
      },
      "source": [
        "#Nnamdi Osuagwu Final Project\n",
        "\n",
        "\n",
        "import pandas as pd \n",
        "import numpy as np\n",
        "import matplotlib.pyplot as plt\n",
        "from sklearn.decomposition import PCA\n",
        "from sklearn.preprocessing import StandardScaler\n",
        "\n",
        "from sklearn.datasets import fetch_openml\n",
        "from sklearn import metrics\n",
        "from sklearn.model_selection import train_test_split\n",
        "\n",
        "%matplotlib inline\n",
        "\n",
        "\n",
        "url_covid_death_conditions = \"https://raw.githubusercontent.com/nnamdi2020/patternsfinal/main/data/covid-death-conditions.csv\"\n",
        "\n",
        "url_covid_death_rate = \"https://raw.githubusercontent.com/nnamdi2020/patternsfinal/main/data/covid-death-rate.csv\"\n",
        "url_covid_sex_age_state = \"https://raw.githubusercontent.com/nnamdi2020/patternsfinal/main/data/covid-sex-age-state.csv\" \n",
        "\n",
        "# Loading dataset into Pandas DataFrame\n",
        "df_covid_death_conditions = pd.read_csv(url_covid_death_conditions\n",
        "                 , names=['data_as_of','start_week','end_week','state','condition_group','condition',\n",
        "                          'icd10_codes','age_group','number_of_covid-19_deaths','flag'])\n",
        "\n",
        "df_covid_sex_age_state = pd.read_csv(url_covid_sex_age_state,names=['Data as of','Start week','End Week','State',\n",
        "                                                                    'Sex','Age','COVID-19 Deaths Total Deaths',\n",
        "                                                                    'Pneumonia Deaths','Pneumonia and COVID-19 Deaths',\n",
        "                                                                    'Influenza Deaths','Pneumonia, Influenza, or COVID-19 Deaths','Footnote'],skiprows=1)\n",
        "\n",
        "\n",
        "#features = ['Pneumonia Deaths','Pneumonia and COVID-19 Deaths',\n",
        "#           'Influenza Deaths','Pneumonia, Influenza, or COVID-19 Deaths']\n",
        "\n",
        "features = ['Pneumonia Deaths','Influenza Deaths']\n",
        "\n",
        "x = df_covid_sex_age_state.loc[:, features].values\n",
        "\n",
        "y = df_covid_sex_age_state.loc[:,['Sex']].values\n",
        "\n",
        "#x = StandardScaler().fit(x)\n",
        "x = StandardScaler().fit_transform(x,y)\n",
        "\n",
        "pd.DataFrame(data = x, columns = features).head(7)\n",
        "\n",
        "\n",
        "#PCA Projection to 2D\n",
        "pca = PCA(n_components=1)\n",
        "\n",
        "principalDf = pd.DataFrame(data = x\n",
        "             , columns = ['principal component 1', 'principal component 2'])\n",
        "\n",
        "\n",
        "\n",
        "principalDf.head(5)\n",
        "\n",
        "\n",
        "\n",
        "\n",
        "\n",
        "\n",
        "\n",
        "\n",
        "\n"
      ],
      "execution_count": 163,
      "outputs": [
        {
          "output_type": "execute_result",
          "data": {
            "text/html": [
              "<div>\n",
              "<style scoped>\n",
              "    .dataframe tbody tr th:only-of-type {\n",
              "        vertical-align: middle;\n",
              "    }\n",
              "\n",
              "    .dataframe tbody tr th {\n",
              "        vertical-align: top;\n",
              "    }\n",
              "\n",
              "    .dataframe thead th {\n",
              "        text-align: right;\n",
              "    }\n",
              "</style>\n",
              "<table border=\"1\" class=\"dataframe\">\n",
              "  <thead>\n",
              "    <tr style=\"text-align: right;\">\n",
              "      <th></th>\n",
              "      <th>principal component 1</th>\n",
              "      <th>principal component 2</th>\n",
              "    </tr>\n",
              "  </thead>\n",
              "  <tbody>\n",
              "    <tr>\n",
              "      <th>0</th>\n",
              "      <td>33.390943</td>\n",
              "      <td>31.280149</td>\n",
              "    </tr>\n",
              "    <tr>\n",
              "      <th>1</th>\n",
              "      <td>-0.098918</td>\n",
              "      <td>-0.059128</td>\n",
              "    </tr>\n",
              "    <tr>\n",
              "      <th>2</th>\n",
              "      <td>-0.061428</td>\n",
              "      <td>0.439053</td>\n",
              "    </tr>\n",
              "    <tr>\n",
              "      <th>3</th>\n",
              "      <td>-0.105190</td>\n",
              "      <td>0.065417</td>\n",
              "    </tr>\n",
              "    <tr>\n",
              "      <th>4</th>\n",
              "      <td>-0.100913</td>\n",
              "      <td>0.116158</td>\n",
              "    </tr>\n",
              "  </tbody>\n",
              "</table>\n",
              "</div>"
            ],
            "text/plain": [
              "   principal component 1  principal component 2\n",
              "0              33.390943              31.280149\n",
              "1              -0.098918              -0.059128\n",
              "2              -0.061428               0.439053\n",
              "3              -0.105190               0.065417\n",
              "4              -0.100913               0.116158"
            ]
          },
          "metadata": {
            "tags": []
          },
          "execution_count": 163
        }
      ]
    },
    {
      "cell_type": "code",
      "metadata": {
        "colab": {
          "base_uri": "https://localhost:8080/",
          "height": 195
        },
        "id": "hzfFFz1MRoUV",
        "outputId": "93789659-19a1-4f55-a106-fc002694212a"
      },
      "source": [
        "targetDf = pd.DataFrame(data = y\n",
        "            , columns = ['Age'])\n",
        "targetDf.head(5)"
      ],
      "execution_count": 168,
      "outputs": [
        {
          "output_type": "execute_result",
          "data": {
            "text/html": [
              "<div>\n",
              "<style scoped>\n",
              "    .dataframe tbody tr th:only-of-type {\n",
              "        vertical-align: middle;\n",
              "    }\n",
              "\n",
              "    .dataframe tbody tr th {\n",
              "        vertical-align: top;\n",
              "    }\n",
              "\n",
              "    .dataframe thead th {\n",
              "        text-align: right;\n",
              "    }\n",
              "</style>\n",
              "<table border=\"1\" class=\"dataframe\">\n",
              "  <thead>\n",
              "    <tr style=\"text-align: right;\">\n",
              "      <th></th>\n",
              "      <th>Age</th>\n",
              "    </tr>\n",
              "  </thead>\n",
              "  <tbody>\n",
              "    <tr>\n",
              "      <th>0</th>\n",
              "      <td>All Ages</td>\n",
              "    </tr>\n",
              "    <tr>\n",
              "      <th>1</th>\n",
              "      <td>Under 1 year</td>\n",
              "    </tr>\n",
              "    <tr>\n",
              "      <th>2</th>\n",
              "      <td>0-17 years</td>\n",
              "    </tr>\n",
              "    <tr>\n",
              "      <th>3</th>\n",
              "      <td>1-4 years</td>\n",
              "    </tr>\n",
              "    <tr>\n",
              "      <th>4</th>\n",
              "      <td>5-14 years</td>\n",
              "    </tr>\n",
              "  </tbody>\n",
              "</table>\n",
              "</div>"
            ],
            "text/plain": [
              "            Age\n",
              "0      All Ages\n",
              "1  Under 1 year\n",
              "2    0-17 years\n",
              "3     1-4 years\n",
              "4    5-14 years"
            ]
          },
          "metadata": {
            "tags": []
          },
          "execution_count": 168
        }
      ]
    },
    {
      "cell_type": "code",
      "metadata": {
        "colab": {
          "base_uri": "https://localhost:8080/",
          "height": 195
        },
        "id": "qxVomSu2Rvit",
        "outputId": "3feec09b-23e3-4145-d902-95468d95fd9a"
      },
      "source": [
        "finalDf = pd.concat([principalDf,targetDf], axis =1 )\n",
        "#finalDf = pd.concat([principalDf, df_covid_sex_age_state[['Sex']]], axis = 1)\n",
        "#finalDf = pd.concat([principalDf, df[['target']]], axis = 1)\n",
        "finalDf.head(5)"
      ],
      "execution_count": 169,
      "outputs": [
        {
          "output_type": "execute_result",
          "data": {
            "text/html": [
              "<div>\n",
              "<style scoped>\n",
              "    .dataframe tbody tr th:only-of-type {\n",
              "        vertical-align: middle;\n",
              "    }\n",
              "\n",
              "    .dataframe tbody tr th {\n",
              "        vertical-align: top;\n",
              "    }\n",
              "\n",
              "    .dataframe thead th {\n",
              "        text-align: right;\n",
              "    }\n",
              "</style>\n",
              "<table border=\"1\" class=\"dataframe\">\n",
              "  <thead>\n",
              "    <tr style=\"text-align: right;\">\n",
              "      <th></th>\n",
              "      <th>principal component 1</th>\n",
              "      <th>principal component 2</th>\n",
              "      <th>Age</th>\n",
              "    </tr>\n",
              "  </thead>\n",
              "  <tbody>\n",
              "    <tr>\n",
              "      <th>0</th>\n",
              "      <td>33.390943</td>\n",
              "      <td>31.280149</td>\n",
              "      <td>All Ages</td>\n",
              "    </tr>\n",
              "    <tr>\n",
              "      <th>1</th>\n",
              "      <td>-0.098918</td>\n",
              "      <td>-0.059128</td>\n",
              "      <td>Under 1 year</td>\n",
              "    </tr>\n",
              "    <tr>\n",
              "      <th>2</th>\n",
              "      <td>-0.061428</td>\n",
              "      <td>0.439053</td>\n",
              "      <td>0-17 years</td>\n",
              "    </tr>\n",
              "    <tr>\n",
              "      <th>3</th>\n",
              "      <td>-0.105190</td>\n",
              "      <td>0.065417</td>\n",
              "      <td>1-4 years</td>\n",
              "    </tr>\n",
              "    <tr>\n",
              "      <th>4</th>\n",
              "      <td>-0.100913</td>\n",
              "      <td>0.116158</td>\n",
              "      <td>5-14 years</td>\n",
              "    </tr>\n",
              "  </tbody>\n",
              "</table>\n",
              "</div>"
            ],
            "text/plain": [
              "   principal component 1  principal component 2           Age\n",
              "0              33.390943              31.280149      All Ages\n",
              "1              -0.098918              -0.059128  Under 1 year\n",
              "2              -0.061428               0.439053    0-17 years\n",
              "3              -0.105190               0.065417     1-4 years\n",
              "4              -0.100913               0.116158    5-14 years"
            ]
          },
          "metadata": {
            "tags": []
          },
          "execution_count": 169
        }
      ]
    },
    {
      "cell_type": "code",
      "metadata": {
        "colab": {
          "base_uri": "https://localhost:8080/",
          "height": 523
        },
        "id": "o0ejrZUeUf9l",
        "outputId": "c76d1d33-1d46-401e-9ff6-b2388c3e6b41"
      },
      "source": [
        "fig = plt.figure(figsize = (8,8))\n",
        "ax = fig.add_subplot(1,1,1) \n",
        "ax.set_xlabel('Pneumonia Deaths', fontsize = 15)\n",
        "ax.set_ylabel('Influenza Deaths', fontsize = 15)\n",
        "ax.set_title('Covid Symptoms', fontsize = 20)\n",
        "\n",
        "\n",
        "targets = ['All Ages','Under 1 year', '0-17 years','1-4 years','5-14 years']\n",
        "colors = ['r', 'g', 'b']\n",
        "for Age, color in zip(targets,colors):\n",
        "    indicesToKeep = finalDf['Age'] == Age\n",
        "    ax.scatter(finalDf.loc[indicesToKeep, 'principal component 1']\n",
        "               , finalDf.loc[indicesToKeep, 'principal component 2']\n",
        "               , c = color\n",
        "               , s = 50)\n",
        "ax.legend(targets)\n",
        "ax.grid()"
      ],
      "execution_count": 171,
      "outputs": [
        {
          "output_type": "display_data",
          "data": {
            "image/png": "[encoded data removed]",
            "text/plain": [
              "<Figure size 576x576 with 1 Axes>"
            ]
          },
          "metadata": {
            "tags": [],
            "needs_background": "light"
          }
        }
      ]
    }
  ]
}