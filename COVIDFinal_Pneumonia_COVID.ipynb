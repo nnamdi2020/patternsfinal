{
  "nbformat": 4,
  "nbformat_minor": 0,
  "metadata": {
    "colab": {
      "name": "COVIDFinal-PC.ipynb",
      "provenance": [],
      "collapsed_sections": []
    },
    "kernelspec": {
      "name": "python3",
      "display_name": "Python 3"
    }
  },
  "cells": [
    {
      "cell_type": "code",
      "metadata": {
        "colab": {
          "base_uri": "https://localhost:8080/",
          "height": 195
        },
        "id": "3kaZmpWJFHC2",
        "outputId": "9f64f7b3-869a-4387-fe23-0afb6805b247"
      },
      "source": [
        "#Nnamdi Osuagwu Final Project\n",
        "\n",
        "\n",
        "import pandas as pd \n",
        "import numpy as np\n",
        "import matplotlib.pyplot as plt\n",
        "from sklearn.decomposition import PCA\n",
        "from sklearn.preprocessing import StandardScaler\n",
        "\n",
        "from sklearn.datasets import fetch_openml\n",
        "from sklearn import metrics\n",
        "from sklearn.model_selection import train_test_split\n",
        "\n",
        "%matplotlib inline\n",
        "\n",
        "\n",
        "url_covid_death_conditions = \"https://raw.githubusercontent.com/nnamdi2020/patternsfinal/main/data/covid-death-conditions.csv\"\n",
        "\n",
        "url_covid_death_rate = \"https://raw.githubusercontent.com/nnamdi2020/patternsfinal/main/data/covid-death-rate.csv\"\n",
        "url_covid_sex_age_state = \"https://raw.githubusercontent.com/nnamdi2020/patternsfinal/main/data/covid-sex-age-state.csv\" \n",
        "\n",
        "# Loading dataset into Pandas DataFrame\n",
        "df_covid_death_conditions = pd.read_csv(url_covid_death_conditions\n",
        "                 , names=['data_as_of','start_week','end_week','state','condition_group','condition',\n",
        "                          'icd10_codes','age_group','number_of_covid-19_deaths','flag'])\n",
        "\n",
        "df_covid_sex_age_state = pd.read_csv(url_covid_sex_age_state,names=['Data as of','Start week','End Week','State',\n",
        "                                                                    'Sex','Age','COVID-19 Deaths Total Deaths',\n",
        "                                                                    'Pneumonia Deaths','Pneumonia and COVID-19 Deaths',\n",
        "                                                                    'Influenza Deaths','Pneumonia, Influenza, or COVID-19 Deaths','Footnote'],skiprows=1)\n",
        "\n",
        "\n",
        "#features = ['Pneumonia Deaths','Pneumonia and COVID-19 Deaths',\n",
        "#          'Influenza Deaths','Pneumonia, Influenza, or COVID-19 Deaths']\n",
        "\n",
        "features = ['Pneumonia Deaths','Pneumonia and COVID-19 Deaths']\n",
        "\n",
        "x = df_covid_sex_age_state.loc[:, features].values\n",
        "\n",
        "y = df_covid_sex_age_state.loc[:,['Sex']].values\n",
        "\n",
        "#x = StandardScaler().fit(x)\n",
        "x = StandardScaler().fit_transform(x,y)\n",
        "\n",
        "pd.DataFrame(data = x, columns = features).head(7)\n",
        "\n",
        "\n",
        "#PCA Projection to 2D\n",
        "pca = PCA(n_components=1)\n",
        "\n",
        "principalDf = pd.DataFrame(data = x\n",
        "             , columns = ['principal component 1', 'principal component 2'])\n",
        "\n",
        "\n",
        "\n",
        "principalDf.head(5)\n",
        "\n",
        "\n",
        "\n",
        "\n",
        "\n",
        "\n",
        "\n",
        "\n",
        "\n"
      ],
      "execution_count": 1,
      "outputs": [
        {
          "output_type": "execute_result",
          "data": {
            "text/html": [
              "<div>\n",
              "<style scoped>\n",
              "    .dataframe tbody tr th:only-of-type {\n",
              "        vertical-align: middle;\n",
              "    }\n",
              "\n",
              "    .dataframe tbody tr th {\n",
              "        vertical-align: top;\n",
              "    }\n",
              "\n",
              "    .dataframe thead th {\n",
              "        text-align: right;\n",
              "    }\n",
              "</style>\n",
              "<table border=\"1\" class=\"dataframe\">\n",
              "  <thead>\n",
              "    <tr style=\"text-align: right;\">\n",
              "      <th></th>\n",
              "      <th>principal component 1</th>\n",
              "      <th>principal component 2</th>\n",
              "    </tr>\n",
              "  </thead>\n",
              "  <tbody>\n",
              "    <tr>\n",
              "      <th>0</th>\n",
              "      <td>33.390943</td>\n",
              "      <td>34.050207</td>\n",
              "    </tr>\n",
              "    <tr>\n",
              "      <th>1</th>\n",
              "      <td>-0.098918</td>\n",
              "      <td>-0.113153</td>\n",
              "    </tr>\n",
              "    <tr>\n",
              "      <th>2</th>\n",
              "      <td>-0.061428</td>\n",
              "      <td>-0.108609</td>\n",
              "    </tr>\n",
              "    <tr>\n",
              "      <th>3</th>\n",
              "      <td>-0.105190</td>\n",
              "      <td>-0.113803</td>\n",
              "    </tr>\n",
              "    <tr>\n",
              "      <th>4</th>\n",
              "      <td>-0.100913</td>\n",
              "      <td>-0.112180</td>\n",
              "    </tr>\n",
              "  </tbody>\n",
              "</table>\n",
              "</div>"
            ],
            "text/plain": [
              "   principal component 1  principal component 2\n",
              "0              33.390943              34.050207\n",
              "1              -0.098918              -0.113153\n",
              "2              -0.061428              -0.108609\n",
              "3              -0.105190              -0.113803\n",
              "4              -0.100913              -0.112180"
            ]
          },
          "metadata": {
            "tags": []
          },
          "execution_count": 1
        }
      ]
    },
    {
      "cell_type": "code",
      "metadata": {
        "colab": {
          "base_uri": "https://localhost:8080/",
          "height": 195
        },
        "id": "hzfFFz1MRoUV",
        "outputId": "be881a41-bae0-403d-994b-0d25362ba2f4"
      },
      "source": [
        "targetDf = pd.DataFrame(data = y\n",
        "            , columns = ['Age'])\n",
        "targetDf.head(5)"
      ],
      "execution_count": 2,
      "outputs": [
        {
          "output_type": "execute_result",
          "data": {
            "text/html": [
              "<div>\n",
              "<style scoped>\n",
              "    .dataframe tbody tr th:only-of-type {\n",
              "        vertical-align: middle;\n",
              "    }\n",
              "\n",
              "    .dataframe tbody tr th {\n",
              "        vertical-align: top;\n",
              "    }\n",
              "\n",
              "    .dataframe thead th {\n",
              "        text-align: right;\n",
              "    }\n",
              "</style>\n",
              "<table border=\"1\" class=\"dataframe\">\n",
              "  <thead>\n",
              "    <tr style=\"text-align: right;\">\n",
              "      <th></th>\n",
              "      <th>Age</th>\n",
              "    </tr>\n",
              "  </thead>\n",
              "  <tbody>\n",
              "    <tr>\n",
              "      <th>0</th>\n",
              "      <td>All Ages</td>\n",
              "    </tr>\n",
              "    <tr>\n",
              "      <th>1</th>\n",
              "      <td>Under 1 year</td>\n",
              "    </tr>\n",
              "    <tr>\n",
              "      <th>2</th>\n",
              "      <td>0-17 years</td>\n",
              "    </tr>\n",
              "    <tr>\n",
              "      <th>3</th>\n",
              "      <td>1-4 years</td>\n",
              "    </tr>\n",
              "    <tr>\n",
              "      <th>4</th>\n",
              "      <td>5-14 years</td>\n",
              "    </tr>\n",
              "  </tbody>\n",
              "</table>\n",
              "</div>"
            ],
            "text/plain": [
              "            Age\n",
              "0      All Ages\n",
              "1  Under 1 year\n",
              "2    0-17 years\n",
              "3     1-4 years\n",
              "4    5-14 years"
            ]
          },
          "metadata": {
            "tags": []
          },
          "execution_count": 2
        }
      ]
    },
    {
      "cell_type": "code",
      "metadata": {
        "colab": {
          "base_uri": "https://localhost:8080/",
          "height": 195
        },
        "id": "qxVomSu2Rvit",
        "outputId": "48576bd1-89b8-47be-beb4-fee441f6b201"
      },
      "source": [
        "finalDf = pd.concat([principalDf,targetDf], axis =1 )\n",
        "#finalDf = pd.concat([principalDf, df_covid_sex_age_state[['Sex']]], axis = 1)\n",
        "#finalDf = pd.concat([principalDf, df[['target']]], axis = 1)\n",
        "finalDf.head(5)"
      ],
      "execution_count": 3,
      "outputs": [
        {
          "output_type": "execute_result",
          "data": {
            "text/html": [
              "<div>\n",
              "<style scoped>\n",
              "    .dataframe tbody tr th:only-of-type {\n",
              "        vertical-align: middle;\n",
              "    }\n",
              "\n",
              "    .dataframe tbody tr th {\n",
              "        vertical-align: top;\n",
              "    }\n",
              "\n",
              "    .dataframe thead th {\n",
              "        text-align: right;\n",
              "    }\n",
              "</style>\n",
              "<table border=\"1\" class=\"dataframe\">\n",
              "  <thead>\n",
              "    <tr style=\"text-align: right;\">\n",
              "      <th></th>\n",
              "      <th>principal component 1</th>\n",
              "      <th>principal component 2</th>\n",
              "      <th>Age</th>\n",
              "    </tr>\n",
              "  </thead>\n",
              "  <tbody>\n",
              "    <tr>\n",
              "      <th>0</th>\n",
              "      <td>33.390943</td>\n",
              "      <td>34.050207</td>\n",
              "      <td>All Ages</td>\n",
              "    </tr>\n",
              "    <tr>\n",
              "      <th>1</th>\n",
              "      <td>-0.098918</td>\n",
              "      <td>-0.113153</td>\n",
              "      <td>Under 1 year</td>\n",
              "    </tr>\n",
              "    <tr>\n",
              "      <th>2</th>\n",
              "      <td>-0.061428</td>\n",
              "      <td>-0.108609</td>\n",
              "      <td>0-17 years</td>\n",
              "    </tr>\n",
              "    <tr>\n",
              "      <th>3</th>\n",
              "      <td>-0.105190</td>\n",
              "      <td>-0.113803</td>\n",
              "      <td>1-4 years</td>\n",
              "    </tr>\n",
              "    <tr>\n",
              "      <th>4</th>\n",
              "      <td>-0.100913</td>\n",
              "      <td>-0.112180</td>\n",
              "      <td>5-14 years</td>\n",
              "    </tr>\n",
              "  </tbody>\n",
              "</table>\n",
              "</div>"
            ],
            "text/plain": [
              "   principal component 1  principal component 2           Age\n",
              "0              33.390943              34.050207      All Ages\n",
              "1              -0.098918              -0.113153  Under 1 year\n",
              "2              -0.061428              -0.108609    0-17 years\n",
              "3              -0.105190              -0.113803     1-4 years\n",
              "4              -0.100913              -0.112180    5-14 years"
            ]
          },
          "metadata": {
            "tags": []
          },
          "execution_count": 3
        }
      ]
    },
    {
      "cell_type": "code",
      "metadata": {
        "colab": {
          "base_uri": "https://localhost:8080/",
          "height": 523
        },
        "id": "o0ejrZUeUf9l",
        "outputId": "f5680155-d1b6-417a-d286-9749c193cb81"
      },
      "source": [
        "fig = plt.figure(figsize = (8,8))\n",
        "ax = fig.add_subplot(1,1,1) \n",
        "ax.set_xlabel('Pneumonia Deaths', fontsize = 15)\n",
        "ax.set_ylabel('Pneumonia and COVID-19 Deaths', fontsize = 15)\n",
        "ax.set_title('Covid Symptoms', fontsize = 20)\n",
        "\n",
        "\n",
        "targets = ['All Ages','Under 1 year', '0-17 years','1-4 years','5-14 years']\n",
        "colors = ['r', 'g', 'b']\n",
        "for Age, color in zip(targets,colors):\n",
        "    indicesToKeep = finalDf['Age'] == Age\n",
        "    ax.scatter(finalDf.loc[indicesToKeep, 'principal component 1']\n",
        "               , finalDf.loc[indicesToKeep, 'principal component 2']\n",
        "               , c = color\n",
        "               , s = 50)\n",
        "ax.legend(targets)\n",
        "ax.grid()"
      ],
      "execution_count": 4,
      "outputs": [
        {
          "output_type": "display_data",
          "data": {
            "image/png": "[encoded data removed]",
            "text/plain": [
              "<Figure size 576x576 with 1 Axes>"
            ]
          },
          "metadata": {
            "tags": [],
            "needs_background": "light"
          }
        }
      ]
    }
  ]
}